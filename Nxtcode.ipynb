{
  "nbformat": 4,
  "nbformat_minor": 0,
  "metadata": {
    "colab": {
      "provenance": [],
      "authorship_tag": "ABX9TyMDb2ctoJkqq0ESlUuM/kVg",
      "include_colab_link": true
    },
    "kernelspec": {
      "name": "python3",
      "display_name": "Python 3"
    },
    "language_info": {
      "name": "python"
    }
  },
  "cells": [
    {
      "cell_type": "markdown",
      "metadata": {
        "id": "view-in-github",
        "colab_type": "text"
      },
      "source": [
        "<a href=\"https://colab.research.google.com/github/saisujitha97/NXTCODE/blob/main/Nxtcode.ipynb\" target=\"_parent\"><img src=\"https://colab.research.google.com/assets/colab-badge.svg\" alt=\"Open In Colab\"/></a>"
      ]
    },
    {
      "cell_type": "code",
      "execution_count": 1,
      "metadata": {
        "id": "OMhIe6eq3aY4"
      },
      "outputs": [],
      "source": [
        "#Iam super excited to share that I joined in 21 days coder challenge from Nxtwave"
      ]
    },
    {
      "cell_type": "code",
      "source": [
        "# NXTCODE\n",
        "# In this challenge I selected Python, to check my programming skill."
      ],
      "metadata": {
        "id": "GM4mU8h33uNG"
      },
      "execution_count": 2,
      "outputs": []
    },
    {
      "cell_type": "code",
      "source": [
        "#For this I revised concepts like-\n",
        "#1. Nested Conditions\n",
        "#2. Functions\n",
        "#3. Dictionaries\n",
        "#4. I/O basics\n",
        "#5. Tuples and sets\n",
        "#6. Recursion"
      ],
      "metadata": {
        "id": "Oxk3cpZL4GwM"
      },
      "execution_count": 4,
      "outputs": []
    },
    {
      "cell_type": "code",
      "source": [
        "#Day 1\n",
        "#As the challenge just begins they started with very basic.\n",
        "\n",
        "# Find the Third element from the string given by the user.\n",
        "# suppose if they give \"NXTWAVE\" as an input\n",
        "# the output should return the third element that is 'T'\n",
        "# For this string index knowledge is enough. As Any array or string index generally starts from 0 .\n",
        "# third element means n-1 element (3-1=2) so 2nd element\n",
        "string=input()\n",
        "print(string[2])"
      ],
      "metadata": {
        "colab": {
          "base_uri": "https://localhost:8080/"
        },
        "id": "h0X4D1oz4RWL",
        "outputId": "ce8d1beb-b9b3-4373-d706-1d5932a6e6f5"
      },
      "execution_count": 14,
      "outputs": [
        {
          "output_type": "stream",
          "name": "stdout",
          "text": [
            "NXTWAVE\n",
            "T\n"
          ]
        }
      ]
    },
    {
      "cell_type": "code",
      "source": [
        "#Day 2\n",
        "\n",
        "#A string of Uppercase letters are given by the user. we have to convert them into lower case letters.\n",
        "# This requires basics of predefined functions\n",
        "#suppose if the user gives \"NXTWAVE\"  the output should return \"nxtwave\".\n",
        "string=input()\n",
        "print(string.lower())"
      ],
      "metadata": {
        "colab": {
          "base_uri": "https://localhost:8080/"
        },
        "id": "IgG1cdfF42_T",
        "outputId": "95a8f236-80d4-43e4-d37c-6e4e83112fe1"
      },
      "execution_count": 13,
      "outputs": [
        {
          "output_type": "stream",
          "name": "stdout",
          "text": [
            "NXTWAVE\n",
            "nxtwave\n"
          ]
        }
      ]
    },
    {
      "cell_type": "code",
      "source": [
        "#Day 3\n",
        "#Given the number of rows N,\n",
        "#write a program to print the hallow full pyramid pattern similar to the pattern shown below.\n",
        "#      *\n",
        "#     * *\n",
        "#    *   *\n",
        "#   *     *\n",
        "#  * * * * *\n",
        "#Input\n",
        "#The input will be a single line containing a positive integer (N).\n",
        "#Output\n",
        "#The output should be N rows containing the asterisk (*) characters in the hollow full pyramid pattern.\n",
        "\n",
        "n=int(input())\n",
        "for i in range(1,n+1):\n",
        "    left_spaces=\" \"*(n-i)\n",
        "    if (i>2) and (i<n):\n",
        "        hollow_spaces=\"  \"*(i-2)\n",
        "        stars=\"* \"+hollow_spaces+\"*\"\n",
        "        print(left_spaces+stars)\n",
        "    else:\n",
        "        stars=\"* \"*i\n",
        "        print(left_spaces+stars)"
      ],
      "metadata": {
        "colab": {
          "base_uri": "https://localhost:8080/"
        },
        "id": "LnKSaqT660mS",
        "outputId": "10b31315-9360-4489-c715-eb6f82b576eb"
      },
      "execution_count": 15,
      "outputs": [
        {
          "output_type": "stream",
          "name": "stdout",
          "text": [
            "5\n",
            "    * \n",
            "   * * \n",
            "  *   *\n",
            " *     *\n",
            "* * * * * \n"
          ]
        }
      ]
    },
    {
      "cell_type": "code",
      "source": [
        "#Day 4\n",
        "\n",
        "#Write a program that reads the two words S1 and S2 and checks if S2 is a rotation of S1\n",
        "#Print the number of times S1 rotates to match S2, if S2 is a rotation of S1.\n",
        "# Otherwise, print No Match.\n",
        "\n",
        "s1=input()\n",
        "s2=input()\n",
        "length=len(s1)\n",
        "count=[]\n",
        "for i in range(length):\n",
        "  s=s1[length-i:]\n",
        "  k=s1[:length-i]\n",
        "  result=s+k\n",
        "  count.append(result)\n",
        "  if s2==result:\n",
        "    print(i)\n",
        "if s2 not in count:\n",
        "  print(\"No Match\")"
      ],
      "metadata": {
        "colab": {
          "base_uri": "https://localhost:8080/"
        },
        "id": "03L5ODZT_h9J",
        "outputId": "cb039a31-17a7-483c-96e4-4ad6ff3a9538"
      },
      "execution_count": 18,
      "outputs": [
        {
          "output_type": "stream",
          "name": "stdout",
          "text": [
            "python\n",
            "onpyth\n",
            "2\n"
          ]
        }
      ]
    },
    {
      "cell_type": "code",
      "source": [
        "#Day 5\n",
        "\n",
        "#Given two lines of comma-separated integers,\n",
        "# write a program to print the numbers that are present in both of the lines.\n",
        "#Input\n",
        "#The first line of input will contain comma-separated integers.\n",
        "#The second line of input will contain comma-separated integers.\n",
        "#Output\n",
        "#The output should be a single line containing the list of common elements in both lists sorted in ascending order.\n",
        "\n",
        "a=set(map(int,input().split(\",\")))\n",
        "b=set(map(int,input().split(\",\")))\n",
        "c=a&b\n",
        "print(list(sorted(c)))"
      ],
      "metadata": {
        "colab": {
          "base_uri": "https://localhost:8080/"
        },
        "id": "TJEhHlvxBXor",
        "outputId": "a95cb10d-b6e5-464d-d518-9ce53ee057a5"
      },
      "execution_count": 19,
      "outputs": [
        {
          "output_type": "stream",
          "name": "stdout",
          "text": [
            "2,3,4,5,6\n",
            "4,5,3\n",
            "[3, 4, 5]\n"
          ]
        }
      ]
    }
  ]
}